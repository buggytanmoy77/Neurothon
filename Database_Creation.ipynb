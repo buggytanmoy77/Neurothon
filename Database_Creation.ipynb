{
  "nbformat": 4,
  "nbformat_minor": 0,
  "metadata": {
    "colab": {
      "provenance": [],
      "authorship_tag": "ABX9TyPNcrhScRXQCJX1v11KVyow",
      "include_colab_link": true
    },
    "kernelspec": {
      "name": "python3",
      "display_name": "Python 3"
    },
    "language_info": {
      "name": "python"
    }
  },
  "cells": [
    {
      "cell_type": "markdown",
      "metadata": {
        "id": "view-in-github",
        "colab_type": "text"
      },
      "source": [
        "<a href=\"https://colab.research.google.com/github/buggytanmoy77/Neurothon/blob/main/Database_Creation.ipynb\" target=\"_parent\"><img src=\"https://colab.research.google.com/assets/colab-badge.svg\" alt=\"Open In Colab\"/></a>"
      ]
    },
    {
      "cell_type": "markdown",
      "source": [
        "# Installations of Pre-Requisite Libraries"
      ],
      "metadata": {
        "id": "tKPZNWQcaO1v"
      }
    },
    {
      "cell_type": "code",
      "source": [
        "!pip install pandas requests beautifulsoup4 scikit-learn numpy lxml"
      ],
      "metadata": {
        "id": "OMYgPedJaipY"
      },
      "execution_count": null,
      "outputs": []
    }
  ]
}