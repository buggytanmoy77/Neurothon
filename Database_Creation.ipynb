{
  "nbformat": 4,
  "nbformat_minor": 0,
  "metadata": {
    "colab": {
      "provenance": [],
      "authorship_tag": "ABX9TyNBw4HA0IWxHXT+m2J2E2QI",
      "include_colab_link": true
    },
    "kernelspec": {
      "name": "python3",
      "display_name": "Python 3"
    },
    "language_info": {
      "name": "python"
    }
  },
  "cells": [
    {
      "cell_type": "markdown",
      "metadata": {
        "id": "view-in-github",
        "colab_type": "text"
      },
      "source": [
        "<a href=\"https://colab.research.google.com/github/buggytanmoy77/Neurothon/blob/main/Database_Creation.ipynb\" target=\"_parent\"><img src=\"https://colab.research.google.com/assets/colab-badge.svg\" alt=\"Open In Colab\"/></a>"
      ]
    },
    {
      "cell_type": "markdown",
      "source": [
        "# Installations of Pre-Requisite Libraries"
      ],
      "metadata": {
        "id": "tKPZNWQcaO1v"
      }
    },
    {
      "cell_type": "code",
      "source": [
        "!pip install pandas requests beautifulsoup4 scikit-learn numpy lxml"
      ],
      "metadata": {
        "id": "OMYgPedJaipY"
      },
      "execution_count": null,
      "outputs": []
    },
    {
      "cell_type": "markdown",
      "source": [
        "# Scraping Using BeautifulSoup\n",
        "\n",
        "Here we scrapped Mayo Clinic Diseases by Alphabet Letter and Save to a CSV file\n",
        "\n",
        "This script iterates through all letters A-Z and scrapes disease names and their URLs from the Mayo Clinic website.\n",
        "For each letter, it fetches the corresponding diseases page, extracts the disease links, and writes the results\n",
        "(a letter, disease name, and URL) to a CSV file."
      ],
      "metadata": {
        "id": "oMlP6bAjeMJw"
      }
    },
    {
      "cell_type": "code",
      "source": [
        "import requests\n",
        "from bs4 import BeautifulSoup\n",
        "from csv import writer\n",
        "import string\n",
        "\n",
        "\n",
        "with open('new_mayo_clinic_diseases.csv', 'w', newline='', encoding='utf-8') as f:\n",
        "    csv_writer = writer(f)\n",
        "    csv_writer.writerow(['Letter', 'Disease Name','URL'])\n",
        "\n",
        "\n",
        "    for letter in string.ascii_uppercase:\n",
        "        while True:\n",
        "            url = f\"https://www.mayoclinic.org/diseases-conditions/index?letter={letter}\"\n",
        "            page = requests.get(url)\n",
        "            soup = BeautifulSoup(page.content, 'html.parser')\n",
        "            disease_links = soup.find_all('a', class_='cmp-anchor--plain cmp-button cmp-button__link cmp-result-name__link')\n",
        "\n",
        "            if not disease_links:\n",
        "                break\n",
        "\n",
        "            for link in disease_links:\n",
        "                url1 = link.get('href')\n",
        "                disease_name = link.text.strip()\n",
        "                csv_writer.writerow([letter, disease_name,url1])\n",
        "                print(f\"Letter {letter} - Added: {disease_name} and URL\")\n",
        "\n",
        "            next_page = soup.find('a', {'aria-label': 'Next page'})\n",
        "            if not next_page:\n",
        "                break\n",
        "\n",
        "print(\"Scraping completed successfully!\")"
      ],
      "metadata": {
        "id": "bW01fGAwemEe"
      },
      "execution_count": null,
      "outputs": []
    },
    {
      "cell_type": "markdown",
      "source": [
        "# Getting the Symptoms\n",
        "\n",
        "Scrapping the associated symptom of each disease from the csv file and using the associated URL to create an new CSV."
      ],
      "metadata": {
        "id": "OPdMBq4wiypN"
      }
    },
    {
      "cell_type": "code",
      "source": [
        "import pandas as pd\n",
        "import requests\n",
        "from bs4 import BeautifulSoup\n",
        "\n",
        "df = pd.read_csv('new_mayo_clinic_diseases.csv')\n",
        "\n",
        "def scrape_symptoms(url):\n",
        "    try:\n",
        "        response = requests.get(url)\n",
        "        soup = BeautifulSoup(response.text, 'html.parser')\n",
        "        symptoms_header = soup.find('h2', string='Symptoms')\n",
        "        if symptoms_header:\n",
        "            symptoms_text = symptoms_header.find_next('ul').get_text(separator=' ', strip=True)\n",
        "            return symptoms_text\n",
        "        return \"\"\n",
        "    except:\n",
        "        return \"\"\n",
        "\n",
        "\n",
        "df['Symptoms'] = df['URL'].apply(scrape_symptoms)\n",
        "df.to_csv('diseases_with_symptoms.csv', index=False)"
      ],
      "metadata": {
        "id": "NJA93fLFjLEs"
      },
      "execution_count": null,
      "outputs": []
    }
  ]
}