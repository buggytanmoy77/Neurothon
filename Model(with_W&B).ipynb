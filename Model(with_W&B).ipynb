{
  "nbformat": 4,
  "nbformat_minor": 0,
  "metadata": {
    "colab": {
      "provenance": [],
      "authorship_tag": "ABX9TyNPLzJGoH82tbazP4MCXSG8",
      "include_colab_link": true
    },
    "kernelspec": {
      "name": "python3",
      "display_name": "Python 3"
    },
    "language_info": {
      "name": "python"
    }
  },
  "cells": [
    {
      "cell_type": "markdown",
      "metadata": {
        "id": "view-in-github",
        "colab_type": "text"
      },
      "source": [
        "<a href=\"https://colab.research.google.com/github/buggytanmoy77/Neurothon/blob/main/Model(with_W%26B).ipynb\" target=\"_parent\"><img src=\"https://colab.research.google.com/assets/colab-badge.svg\" alt=\"Open In Colab\"/></a>"
      ]
    },
    {
      "cell_type": "markdown",
      "source": [
        "# Installation of Pre-Requisite Libraries"
      ],
      "metadata": {
        "id": "n1C-Jw2AIxwM"
      }
    },
    {
      "cell_type": "code",
      "source": [
        "!pip install wandb scikit-learn pandas\n",
        "\n",
        "import pandas as pd\n",
        "from sklearn.feature_extraction.text import TfidfVectorizer\n",
        "from sklearn.metrics.pairwise import cosine_similarity\n",
        "from ast import literal_eval\n",
        "import wandb\n",
        "import joblib"
      ],
      "metadata": {
        "id": "j8pyPNGbJCYE"
      },
      "execution_count": null,
      "outputs": []
    },
    {
      "cell_type": "markdown",
      "source": [
        "# Initialize W&B"
      ],
      "metadata": {
        "id": "hnyBDAyJTyGn"
      }
    },
    {
      "cell_type": "code",
      "source": [
        "wandb.init(project=\"disease-detector\", config={\n",
        "    \"model_type\": \"TF-IDF-Cosine\",\n",
        "    \"rare_penalty\": 0.2,\n",
        "    \"top_n\": 5,\n",
        "    \"internal_n\": 20,\n",
        "    \"max_questions\": 5\n",
        "})"
      ],
      "metadata": {
        "id": "u5OWDFFRT44J"
      },
      "execution_count": null,
      "outputs": []
    },
    {
      "cell_type": "markdown",
      "source": [
        "### Before running the code below, make sure to have the csv file( from Database_Creation.ipynb) on your Colab"
      ],
      "metadata": {
        "id": "tMMEIjQ2TJ-3"
      }
    }
  ]
}