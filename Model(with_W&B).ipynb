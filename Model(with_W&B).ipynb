{
  "nbformat": 4,
  "nbformat_minor": 0,
  "metadata": {
    "colab": {
      "provenance": [],
      "authorship_tag": "ABX9TyNjWq0XwfD1IosFonjdTP8Z",
      "include_colab_link": true
    },
    "kernelspec": {
      "name": "python3",
      "display_name": "Python 3"
    },
    "language_info": {
      "name": "python"
    }
  },
  "cells": [
    {
      "cell_type": "markdown",
      "metadata": {
        "id": "view-in-github",
        "colab_type": "text"
      },
      "source": [
        "<a href=\"https://colab.research.google.com/github/buggytanmoy77/Neurothon/blob/main/Model(with_W%26B).ipynb\" target=\"_parent\"><img src=\"https://colab.research.google.com/assets/colab-badge.svg\" alt=\"Open In Colab\"/></a>"
      ]
    },
    {
      "cell_type": "markdown",
      "source": [
        "# Installation of Pre-Requisite Libraries"
      ],
      "metadata": {
        "id": "n1C-Jw2AIxwM"
      }
    },
    {
      "cell_type": "code",
      "source": [
        "!pip install wandb scikit-learn pandas\n",
        "\n",
        "import pandas as pd\n",
        "from sklearn.feature_extraction.text import TfidfVectorizer\n",
        "from sklearn.metrics.pairwise import cosine_similarity\n",
        "from ast import literal_eval\n",
        "import wandb\n",
        "import joblib"
      ],
      "metadata": {
        "id": "j8pyPNGbJCYE"
      },
      "execution_count": null,
      "outputs": []
    },
    {
      "cell_type": "markdown",
      "source": [
        "# Initialize W&B"
      ],
      "metadata": {
        "id": "hnyBDAyJTyGn"
      }
    },
    {
      "cell_type": "code",
      "source": [
        "wandb.init(project=\"disease-detector\", config={\n",
        "    \"model_type\": \"TF-IDF-Cosine\",\n",
        "    \"rare_penalty\": 0.2,\n",
        "    \"top_n\": 5,\n",
        "    \"internal_n\": 20,\n",
        "    \"max_questions\": 5\n",
        "})"
      ],
      "metadata": {
        "id": "u5OWDFFRT44J"
      },
      "execution_count": null,
      "outputs": []
    },
    {
      "cell_type": "markdown",
      "source": [
        "### Before running the code below, make sure to have the csv file( from Database_Creation.ipynb) on your Colab"
      ],
      "metadata": {
        "id": "tMMEIjQ2TJ-3"
      }
    },
    {
      "cell_type": "markdown",
      "source": [
        "# Load data and vectorizer"
      ],
      "metadata": {
        "id": "igsb6ITbUWCN"
      }
    },
    {
      "cell_type": "code",
      "source": [
        "df = pd.read_csv('prefinal_diseases_with_symptoms_enhanced.csv')\n",
        "df['Symptoms'] = df['Symptoms'].apply(lambda x: literal_eval(x) if isinstance(x, str) else [])\n",
        "\n",
        "vectorizer = TfidfVectorizer()\n",
        "symptom_vectors = vectorizer.fit_transform(df['Symptoms'].apply(lambda x: ' '.join(x)))\n"
      ],
      "metadata": {
        "id": "kQ_-AxDrUZ0I"
      },
      "execution_count": null,
      "outputs": []
    }
  ]
}