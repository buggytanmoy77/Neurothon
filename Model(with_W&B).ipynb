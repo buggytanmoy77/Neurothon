{
  "nbformat": 4,
  "nbformat_minor": 0,
  "metadata": {
    "colab": {
      "provenance": [],
      "authorship_tag": "ABX9TyNq1Mt3zYDi6f2mkXgbiBc3",
      "include_colab_link": true
    },
    "kernelspec": {
      "name": "python3",
      "display_name": "Python 3"
    },
    "language_info": {
      "name": "python"
    }
  },
  "cells": [
    {
      "cell_type": "markdown",
      "metadata": {
        "id": "view-in-github",
        "colab_type": "text"
      },
      "source": [
        "<a href=\"https://colab.research.google.com/github/buggytanmoy77/Neurothon/blob/main/Model(with_W%26B).ipynb\" target=\"_parent\"><img src=\"https://colab.research.google.com/assets/colab-badge.svg\" alt=\"Open In Colab\"/></a>"
      ]
    },
    {
      "cell_type": "markdown",
      "source": [
        "# Installation of Pre-Requisite Libraries"
      ],
      "metadata": {
        "id": "n1C-Jw2AIxwM"
      }
    },
    {
      "cell_type": "code",
      "source": [
        "!pip install wandb scikit-learn pandas\n",
        "\n",
        "import pandas as pd\n",
        "from sklearn.feature_extraction.text import TfidfVectorizer\n",
        "from sklearn.metrics.pairwise import cosine_similarity\n",
        "from ast import literal_eval\n",
        "import wandb\n",
        "import joblib"
      ],
      "metadata": {
        "id": "j8pyPNGbJCYE"
      },
      "execution_count": null,
      "outputs": []
    },
    {
      "cell_type": "markdown",
      "source": [
        "# Initialize W&B"
      ],
      "metadata": {
        "id": "hnyBDAyJTyGn"
      }
    },
    {
      "cell_type": "code",
      "source": [
        "wandb.login()\n",
        "\n",
        "wandb.init(project=\"disease-detector\", config={\n",
        "    \"model_type\": \"TF-IDF-Cosine\",\n",
        "    \"rare_penalty\": 0.2,\n",
        "    \"top_n\": 5,\n",
        "    \"internal_n\": 20,\n",
        "    \"max_questions\": 5\n",
        "})"
      ],
      "metadata": {
        "colab": {
          "base_uri": "https://localhost:8080/",
          "height": 299
        },
        "id": "u5OWDFFRT44J",
        "outputId": "9c73ab31-5c94-492c-b7da-2effda021612"
      },
      "execution_count": 2,
      "outputs": [
        {
          "output_type": "stream",
          "name": "stderr",
          "text": [
            "\u001b[34m\u001b[1mwandb\u001b[0m: Using wandb-core as the SDK backend.  Please refer to https://wandb.me/wandb-core for more information.\n"
          ]
        },
        {
          "output_type": "display_data",
          "data": {
            "text/plain": [
              "<IPython.core.display.Javascript object>"
            ],
            "application/javascript": [
              "\n",
              "        window._wandbApiKey = new Promise((resolve, reject) => {\n",
              "            function loadScript(url) {\n",
              "            return new Promise(function(resolve, reject) {\n",
              "                let newScript = document.createElement(\"script\");\n",
              "                newScript.onerror = reject;\n",
              "                newScript.onload = resolve;\n",
              "                document.body.appendChild(newScript);\n",
              "                newScript.src = url;\n",
              "            });\n",
              "            }\n",
              "            loadScript(\"https://cdn.jsdelivr.net/npm/postmate/build/postmate.min.js\").then(() => {\n",
              "            const iframe = document.createElement('iframe')\n",
              "            iframe.style.cssText = \"width:0;height:0;border:none\"\n",
              "            document.body.appendChild(iframe)\n",
              "            const handshake = new Postmate({\n",
              "                container: iframe,\n",
              "                url: 'https://wandb.ai/authorize'\n",
              "            });\n",
              "            const timeout = setTimeout(() => reject(\"Couldn't auto authenticate\"), 5000)\n",
              "            handshake.then(function(child) {\n",
              "                child.on('authorize', data => {\n",
              "                    clearTimeout(timeout)\n",
              "                    resolve(data)\n",
              "                });\n",
              "            });\n",
              "            })\n",
              "        });\n",
              "    "
            ]
          },
          "metadata": {}
        },
        {
          "output_type": "stream",
          "name": "stderr",
          "text": [
            "\u001b[34m\u001b[1mwandb\u001b[0m: Logging into wandb.ai. (Learn how to deploy a W&B server locally: https://wandb.me/wandb-server)\n",
            "\u001b[34m\u001b[1mwandb\u001b[0m: You can find your API key in your browser here: https://wandb.ai/authorize\n",
            "wandb: Paste an API key from your profile and hit enter:"
          ]
        },
        {
          "name": "stdout",
          "output_type": "stream",
          "text": [
            " ··········\n"
          ]
        },
        {
          "output_type": "stream",
          "name": "stderr",
          "text": [
            "\u001b[34m\u001b[1mwandb\u001b[0m: \u001b[33mWARNING\u001b[0m If you're specifying your api key in code, ensure this code is not shared publicly.\n",
            "\u001b[34m\u001b[1mwandb\u001b[0m: \u001b[33mWARNING\u001b[0m Consider setting the WANDB_API_KEY environment variable, or running `wandb login` from the command line.\n",
            "\u001b[34m\u001b[1mwandb\u001b[0m: No netrc file found, creating one.\n",
            "\u001b[34m\u001b[1mwandb\u001b[0m: Appending key for api.wandb.ai to your netrc file: /root/.netrc\n",
            "\u001b[34m\u001b[1mwandb\u001b[0m: Currently logged in as: \u001b[33mnathh722\u001b[0m (\u001b[33mnathh722-nit-silchar\u001b[0m) to \u001b[32mhttps://api.wandb.ai\u001b[0m. Use \u001b[1m`wandb login --relogin`\u001b[0m to force relogin\n"
          ]
        },
        {
          "output_type": "display_data",
          "data": {
            "text/plain": [
              "<IPython.core.display.HTML object>"
            ],
            "text/html": [
              "Tracking run with wandb version 0.19.8"
            ]
          },
          "metadata": {}
        },
        {
          "output_type": "display_data",
          "data": {
            "text/plain": [
              "<IPython.core.display.HTML object>"
            ],
            "text/html": [
              "Run data is saved locally in <code>/content/wandb/run-20250322_193014-766x634g</code>"
            ]
          },
          "metadata": {}
        },
        {
          "output_type": "display_data",
          "data": {
            "text/plain": [
              "<IPython.core.display.HTML object>"
            ],
            "text/html": [
              "Syncing run <strong><a href='https://wandb.ai/nathh722-nit-silchar/disease-detector/runs/766x634g' target=\"_blank\">magic-universe-7</a></strong> to <a href='https://wandb.ai/nathh722-nit-silchar/disease-detector' target=\"_blank\">Weights & Biases</a> (<a href='https://wandb.me/developer-guide' target=\"_blank\">docs</a>)<br>"
            ]
          },
          "metadata": {}
        },
        {
          "output_type": "display_data",
          "data": {
            "text/plain": [
              "<IPython.core.display.HTML object>"
            ],
            "text/html": [
              " View project at <a href='https://wandb.ai/nathh722-nit-silchar/disease-detector' target=\"_blank\">https://wandb.ai/nathh722-nit-silchar/disease-detector</a>"
            ]
          },
          "metadata": {}
        },
        {
          "output_type": "display_data",
          "data": {
            "text/plain": [
              "<IPython.core.display.HTML object>"
            ],
            "text/html": [
              " View run at <a href='https://wandb.ai/nathh722-nit-silchar/disease-detector/runs/766x634g' target=\"_blank\">https://wandb.ai/nathh722-nit-silchar/disease-detector/runs/766x634g</a>"
            ]
          },
          "metadata": {}
        },
        {
          "output_type": "execute_result",
          "data": {
            "text/html": [
              "<button onClick=\"this.nextSibling.style.display='block';this.style.display='none';\">Display W&B run</button><iframe src='https://wandb.ai/nathh722-nit-silchar/disease-detector/runs/766x634g?jupyter=true' style='border:none;width:100%;height:420px;display:none;'></iframe>"
            ],
            "text/plain": [
              "<wandb.sdk.wandb_run.Run at 0x79752a6977d0>"
            ]
          },
          "metadata": {},
          "execution_count": 2
        }
      ]
    },
    {
      "cell_type": "markdown",
      "source": [
        "### Before running the code below, make sure to have the csv file( from Database_Creation.ipynb) on your Colab"
      ],
      "metadata": {
        "id": "tMMEIjQ2TJ-3"
      }
    },
    {
      "cell_type": "markdown",
      "source": [
        "# Load data and vectorizer"
      ],
      "metadata": {
        "id": "igsb6ITbUWCN"
      }
    },
    {
      "cell_type": "code",
      "source": [
        "df = pd.read_csv('prefinal_diseases_with_symptoms_enhanced.csv')\n",
        "df['Symptoms'] = df['Symptoms'].apply(lambda x: literal_eval(x) if isinstance(x, str) else [])\n",
        "\n",
        "vectorizer = TfidfVectorizer()\n",
        "symptom_vectors = vectorizer.fit_transform(df['Symptoms'].apply(lambda x: ' '.join(x)))\n"
      ],
      "metadata": {
        "id": "kQ_-AxDrUZ0I"
      },
      "execution_count": 3,
      "outputs": []
    },
    {
      "cell_type": "markdown",
      "source": [
        "# Save and log vectorizer"
      ],
      "metadata": {
        "id": "Hisd3BVsUzVf"
      }
    },
    {
      "cell_type": "code",
      "source": [
        "joblib.dump(vectorizer, \"tfidf_vectorizer.pkl\")\n",
        "wandb.save(\"tfidf_vectorizer.pkl\")\n",
        "\n",
        "def predict_diseases(user_symptoms, top_n=5, internal_n=20):\n",
        "    user_vector = vectorizer.transform([' '.join(user_symptoms)])\n",
        "    similarities = cosine_similarity(user_vector, symptom_vectors).flatten()\n",
        "    adjusted_scores = similarities * (1 - 0.2 * df['IsRare'])\n",
        "    ranked_indices = adjusted_scores.argsort()[::-1][:internal_n]\n",
        "    ranked_diseases = df.iloc[ranked_indices]['Disease Name'].tolist()\n",
        "    ranked_scores = adjusted_scores[ranked_indices]\n",
        "    display_scores = ranked_scores[:top_n]\n",
        "    probabilities = display_scores / display_scores.sum()\n",
        "\n",
        "    wandb.log({\n",
        "        \"initial_symptoms\": user_symptoms,\n",
        "        \"mean_similarity\": similarities.mean(),\n",
        "        \"max_adjusted_score\": adjusted_scores.max(),\n",
        "        \"top_diseases\": wandb.Table(\n",
        "            columns=[\"Disease\", \"Probability\", \"IsRare\"],\n",
        "            data=[[d, p, df[df['Disease Name'] == d]['IsRare'].iloc[0]]\n",
        "                  for d, p in zip(ranked_diseases[:top_n], probabilities)]\n",
        "        )\n",
        "    })\n",
        "\n",
        "    return {\n",
        "        'display': list(zip(ranked_diseases[:top_n], probabilities)),\n",
        "        'internal': list(zip(ranked_diseases, ranked_scores))\n",
        "    }"
      ],
      "metadata": {
        "id": "XjUF1McMU9Bf"
      },
      "execution_count": 4,
      "outputs": []
    },
    {
      "cell_type": "markdown",
      "source": [
        "### Function For Follow-up questions"
      ],
      "metadata": {
        "id": "d2eMBineVhLI"
      }
    },
    {
      "cell_type": "code",
      "source": [
        "def ask_follow_up_questions(user_symptoms, candidate_diseases, max_questions=5):\n",
        "    follow_up_symptoms = set()\n",
        "    for disease, _ in candidate_diseases:\n",
        "        symptoms = df[df['Disease Name'] == disease]['Symptoms'].iloc[0]\n",
        "        follow_up_symptoms.update(symptoms)\n",
        "    follow_up_symptoms -= set(user_symptoms)\n",
        "    return list(follow_up_symptoms)[:max_questions]"
      ],
      "metadata": {
        "id": "wQvIVFdpVsIL"
      },
      "execution_count": 5,
      "outputs": []
    },
    {
      "cell_type": "markdown",
      "source": [
        "# Diagnose"
      ],
      "metadata": {
        "id": "1xVb84WTV7uJ"
      }
    },
    {
      "cell_type": "code",
      "source": [
        "def diagnose():\n",
        "    user_symptoms = input(\"Enter your symptoms (comma-separated): \").lower().split(',')\n",
        "    user_symptoms = [s.strip() for s in user_symptoms]\n",
        "    wandb.init(project=\"disease-detector\", reinit=True)\n",
        "    run_data = {\n",
        "        \"initial_symptoms\": user_symptoms.copy(),\n",
        "        \"follow_up_qa\": {}\n",
        "    }\n",
        "\n",
        "    result = predict_diseases(user_symptoms)\n",
        "    run_data[\"initial_diagnosis\"] = result['display']\n",
        "\n",
        "    follow_up_symptoms = ask_follow_up_questions(user_symptoms, result['internal'])\n",
        "\n",
        "    print(\"\\nTop 5 possible diseases:\")\n",
        "    for disease, prob in result['display']:\n",
        "        print(f\"- {disease} ({prob:.2%})\")\n",
        "\n",
        "    if follow_up_symptoms:\n",
        "        qa_pairs = []\n",
        "        for symptom in follow_up_symptoms:\n",
        "            answer = input(f\"Do you have '{symptom}'? (yes/no): \").lower()\n",
        "            qa_pairs.append((symptom, answer))\n",
        "            if answer == 'yes':\n",
        "                user_symptoms.append(symptom)\n",
        "        table = wandb.Table(\n",
        "            columns=[\"Question\", \"Answer\"],\n",
        "            data=[[q, a] for q, a in qa_pairs]\n",
        "        )\n",
        "        run_data[\"follow_up_qa\"] = table\n",
        "        updated_result = predict_diseases(user_symptoms)\n",
        "        run_data[\"final_diagnosis\"] = updated_result['display']\n",
        "\n",
        "        print(\"\\nFinal diagnosis:\")\n",
        "        for disease, prob in updated_result['display']:\n",
        "            print(f\"- {disease} ({prob:.2%})\")\n",
        "    wandb.log({\n",
        "        \"initial_symptoms\": \", \".join(run_data[\"initial_symptoms\"]),\n",
        "        \"initial_diagnosis\": wandb.Table(\n",
        "            columns=[\"Disease\", \"Probability\"],\n",
        "            data=run_data[\"initial_diagnosis\"]\n",
        "        ),\n",
        "        \"follow_up_qa\": run_data[\"follow_up_qa\"] if follow_up_symptoms else None,\n",
        "        \"final_diagnosis\": wandb.Table(\n",
        "            columns=[\"Disease\", \"Probability\"],\n",
        "            data=run_data.get(\"final_diagnosis\", [])\n",
        "        )\n",
        "    })\n",
        "\n",
        "    wandb.finish()\n",
        "\n",
        "diagnose()"
      ],
      "metadata": {
        "colab": {
          "base_uri": "https://localhost:8080/",
          "height": 887
        },
        "id": "BM7mD5QJV7UY",
        "outputId": "925297ac-25f4-4488-f9f7-2a83c9a5ff60"
      },
      "execution_count": 6,
      "outputs": [
        {
          "name": "stdout",
          "output_type": "stream",
          "text": [
            "Enter your symptoms (comma-separated): sneezing, coughing\n"
          ]
        },
        {
          "output_type": "display_data",
          "data": {
            "text/plain": [
              "<IPython.core.display.HTML object>"
            ],
            "text/html": []
          },
          "metadata": {}
        },
        {
          "output_type": "display_data",
          "data": {
            "text/plain": [
              "<IPython.core.display.HTML object>"
            ],
            "text/html": [
              " View run <strong style=\"color:#cdcd00\">magic-universe-7</strong> at: <a href='https://wandb.ai/nathh722-nit-silchar/disease-detector/runs/766x634g' target=\"_blank\">https://wandb.ai/nathh722-nit-silchar/disease-detector/runs/766x634g</a><br> View project at: <a href='https://wandb.ai/nathh722-nit-silchar/disease-detector' target=\"_blank\">https://wandb.ai/nathh722-nit-silchar/disease-detector</a><br>Synced 5 W&B file(s), 0 media file(s), 0 artifact file(s) and 1 other file(s)"
            ]
          },
          "metadata": {}
        },
        {
          "output_type": "display_data",
          "data": {
            "text/plain": [
              "<IPython.core.display.HTML object>"
            ],
            "text/html": [
              "Find logs at: <code>./wandb/run-20250322_193014-766x634g/logs</code>"
            ]
          },
          "metadata": {}
        },
        {
          "output_type": "display_data",
          "data": {
            "text/plain": [
              "<IPython.core.display.HTML object>"
            ],
            "text/html": [
              "Tracking run with wandb version 0.19.8"
            ]
          },
          "metadata": {}
        },
        {
          "output_type": "display_data",
          "data": {
            "text/plain": [
              "<IPython.core.display.HTML object>"
            ],
            "text/html": [
              "Run data is saved locally in <code>/content/wandb/run-20250322_193315-ussbuabc</code>"
            ]
          },
          "metadata": {}
        },
        {
          "output_type": "display_data",
          "data": {
            "text/plain": [
              "<IPython.core.display.HTML object>"
            ],
            "text/html": [
              "Syncing run <strong><a href='https://wandb.ai/nathh722-nit-silchar/disease-detector/runs/ussbuabc' target=\"_blank\">rare-sky-8</a></strong> to <a href='https://wandb.ai/nathh722-nit-silchar/disease-detector' target=\"_blank\">Weights & Biases</a> (<a href='https://wandb.me/developer-guide' target=\"_blank\">docs</a>)<br>"
            ]
          },
          "metadata": {}
        },
        {
          "output_type": "display_data",
          "data": {
            "text/plain": [
              "<IPython.core.display.HTML object>"
            ],
            "text/html": [
              " View project at <a href='https://wandb.ai/nathh722-nit-silchar/disease-detector' target=\"_blank\">https://wandb.ai/nathh722-nit-silchar/disease-detector</a>"
            ]
          },
          "metadata": {}
        },
        {
          "output_type": "display_data",
          "data": {
            "text/plain": [
              "<IPython.core.display.HTML object>"
            ],
            "text/html": [
              " View run at <a href='https://wandb.ai/nathh722-nit-silchar/disease-detector/runs/ussbuabc' target=\"_blank\">https://wandb.ai/nathh722-nit-silchar/disease-detector/runs/ussbuabc</a>"
            ]
          },
          "metadata": {}
        },
        {
          "output_type": "stream",
          "name": "stdout",
          "text": [
            "\n",
            "Top 5 possible diseases:\n",
            "- Subconjunctival hemorrhage (broken blood vessel in eye) (29.70%)\n",
            "- Nonallergic rhinitis (19.48%)\n",
            "- Infectious diseases (17.93%)\n",
            "- Occupational asthma (16.65%)\n",
            "- Asthma attack (16.23%)\n",
            "Do you have 'Violent coughing'? (yes/no): no\n",
            "Do you have 'Chest tightness or pain'? (yes/no): no\n",
            "Do you have 'In a child, frequent upward rubbing of the nose'? (yes/no): yes\n",
            "Do you have 'Runny or stuffy nose.'? (yes/no): yes\n",
            "Do you have 'Can radiate to arms and shoulders'? (yes/no): no\n",
            "\n",
            "Final diagnosis:\n",
            "- Pet allergy (21.83%)\n",
            "- Dust mite allergy (21.78%)\n",
            "- Nonallergic rhinitis (21.07%)\n",
            "- Bronchiolitis (18.89%)\n",
            "- Mold allergy (16.44%)\n"
          ]
        },
        {
          "output_type": "display_data",
          "data": {
            "text/plain": [
              "<IPython.core.display.HTML object>"
            ],
            "text/html": []
          },
          "metadata": {}
        },
        {
          "output_type": "display_data",
          "data": {
            "text/plain": [
              "<IPython.core.display.HTML object>"
            ],
            "text/html": [
              "<br>    <style><br>        .wandb-row {<br>            display: flex;<br>            flex-direction: row;<br>            flex-wrap: wrap;<br>            justify-content: flex-start;<br>            width: 100%;<br>        }<br>        .wandb-col {<br>            display: flex;<br>            flex-direction: column;<br>            flex-basis: 100%;<br>            flex: 1;<br>            padding: 10px;<br>        }<br>    </style><br><div class=\"wandb-row\"><div class=\"wandb-col\"><h3>Run history:</h3><br/><table class=\"wandb\"><tr><td>max_adjusted_score</td><td>▁█</td></tr><tr><td>mean_similarity</td><td>▁█</td></tr></table><br/></div><div class=\"wandb-col\"><h3>Run summary:</h3><br/><table class=\"wandb\"><tr><td>initial_symptoms</td><td>sneezing, coughing</td></tr><tr><td>max_adjusted_score</td><td>0.57206</td></tr><tr><td>mean_similarity</td><td>0.03536</td></tr></table><br/></div></div>"
            ]
          },
          "metadata": {}
        },
        {
          "output_type": "display_data",
          "data": {
            "text/plain": [
              "<IPython.core.display.HTML object>"
            ],
            "text/html": [
              " View run <strong style=\"color:#cdcd00\">rare-sky-8</strong> at: <a href='https://wandb.ai/nathh722-nit-silchar/disease-detector/runs/ussbuabc' target=\"_blank\">https://wandb.ai/nathh722-nit-silchar/disease-detector/runs/ussbuabc</a><br> View project at: <a href='https://wandb.ai/nathh722-nit-silchar/disease-detector' target=\"_blank\">https://wandb.ai/nathh722-nit-silchar/disease-detector</a><br>Synced 5 W&B file(s), 5 media file(s), 10 artifact file(s) and 0 other file(s)"
            ]
          },
          "metadata": {}
        },
        {
          "output_type": "display_data",
          "data": {
            "text/plain": [
              "<IPython.core.display.HTML object>"
            ],
            "text/html": [
              "Find logs at: <code>./wandb/run-20250322_193315-ussbuabc/logs</code>"
            ]
          },
          "metadata": {}
        }
      ]
    }
  ]
}